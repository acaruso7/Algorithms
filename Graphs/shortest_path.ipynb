{
 "cells": [
  {
   "cell_type": "code",
   "execution_count": 5,
   "metadata": {},
   "outputs": [
    {
     "name": "stdout",
     "output_type": "stream",
     "text": [
      "10\n"
     ]
    }
   ],
   "source": [
    "Inf = float(\"inf\")\n",
    "\n",
    "FiveDists={(\"A\",\"A\"):0, (\"A\",\"B\"):1, (\"A\",\"C\"):3, (\"A\",\"D\"):7 , (\"A\",\"E\"):Inf,\n",
    "               (\"B\",\"A\"):Inf, (\"B\",\"B\"):0, (\"B\",\"C\"):42, (\"B\",\"D\"):6, (\"B\",\"E\"):27,\n",
    "               (\"C\",\"A\"):Inf, (\"C\",\"B\"):Inf, (\"C\",\"C\"):0, (\"C\",\"D\"):2, (\"C\",\"E\"):13,\n",
    "               (\"D\",\"A\"):Inf, (\"D\",\"B\"):Inf, (\"D\",\"C\"):Inf, (\"D\",\"D\"):0, (\"D\",\"E\"):5,\n",
    "               (\"E\",\"A\"):Inf, (\"E\",\"B\"):Inf, (\"E\",\"C\"):Inf, (\"E\",\"D\"):Inf, (\"E\",\"E\"):0}\n",
    "\n",
    "FiveCities = [\"A\", \"B\", \"C\", \"D\", \"E\"]\n",
    "\n",
    "def shortestPath(Cities, Distances):\n",
    "    '''takes a list of cities from west to east and a dictionary of distances between each\n",
    "    city as inputs and returns the shortest distance between the first city in the list\n",
    "    and the last'''\n",
    "    if len(Cities)==1:\n",
    "        return 0\n",
    "    else:\n",
    "        r=range(1,len(Cities))\n",
    "        x=map(lambda n: Distances[(Cities[0],Cities[n])]+shortestPath(Cities[n:],Distances),r)\n",
    "        return min(x)\n",
    "print(shortestPath(FiveCities, FiveDists))    # A-->C (3), C-->D (2), D-->E (5), shortest dist = 10     "
   ]
  }
 ],
 "metadata": {
  "kernelspec": {
   "display_name": "Python 3",
   "language": "python",
   "name": "python3"
  },
  "language_info": {
   "codemirror_mode": {
    "name": "ipython",
    "version": 3
   },
   "file_extension": ".py",
   "mimetype": "text/x-python",
   "name": "python",
   "nbconvert_exporter": "python",
   "pygments_lexer": "ipython3",
   "version": "3.6.5"
  }
 },
 "nbformat": 4,
 "nbformat_minor": 2
}
