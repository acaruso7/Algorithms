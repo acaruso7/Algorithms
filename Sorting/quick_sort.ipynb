{
 "cells": [
  {
   "cell_type": "code",
   "execution_count": 1,
   "metadata": {},
   "outputs": [
    {
     "name": "stdout",
     "output_type": "stream",
     "text": [
      "Original List: [12, 11, 13, 5, 6, 7]\n",
      "Sorted List: [5, 6, 7, 11, 12, 13]\n"
     ]
    }
   ],
   "source": [
    "def quick_sort(L): #recursive solution\n",
    "    less = [] #list to store element less than the pivot value\n",
    "    pivotList = []\n",
    "    more = [] #list to store element greater than the pivot value\n",
    "\n",
    "    if len(L) <= 1: #base case\n",
    "        return L\n",
    "    else:\n",
    "        pivot = L[0] #use first element of list as pivot\n",
    "        for i in L:\n",
    "            if i < pivot:\n",
    "                less.append(i)\n",
    "            elif i > pivot:\n",
    "                more.append(i)\n",
    "            else:\n",
    "                pivotList.append(i) #store pivot values in their own list\n",
    "        less = quick_sort(less) #recursively quicksort values less than the pivot\n",
    "        more = quick_sort(more) #recursively quicksor values greater than the pivot\n",
    "        return less + pivotList + more #concatenate less, pivots, and more\n",
    "    \n",
    "L = [12, 11, 13, 5, 6, 7] \n",
    "print('Original List: ' + str(L))\n",
    "print('Sorted List: ' + str(quick_sort(L)))\n",
    "\n",
    "\n",
    "#COMPLEXITY: best case and avg case - O(n log n)\n",
    "#worst case: O(n^2)"
   ]
  }
 ],
 "metadata": {
  "kernelspec": {
   "display_name": "Python 3",
   "language": "python",
   "name": "python3"
  },
  "language_info": {
   "codemirror_mode": {
    "name": "ipython",
    "version": 3
   },
   "file_extension": ".py",
   "mimetype": "text/x-python",
   "name": "python",
   "nbconvert_exporter": "python",
   "pygments_lexer": "ipython3",
   "version": "3.6.5"
  }
 },
 "nbformat": 4,
 "nbformat_minor": 2
}
