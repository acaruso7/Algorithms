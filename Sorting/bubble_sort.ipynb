{
 "cells": [
  {
   "cell_type": "code",
   "execution_count": 11,
   "metadata": {},
   "outputs": [
    {
     "name": "stdout",
     "output_type": "stream",
     "text": [
      "Original List: [5, 1, 7, 6, 9, 2]\n",
      "Sorted List: [1, 2, 5, 6, 7, 9]\n"
     ]
    }
   ],
   "source": [
    "def bubble_sort(L):\n",
    "    for outer in range(len(L)-1,0,-1): #list of indexes in descending order to keep track of outer loop passes\n",
    "        for idx in range(outer): #inner loop passes to make individual value swaps\n",
    "            if L[idx] > L[idx+1]:\n",
    "                temp = L[idx]\n",
    "                L[idx] = L[idx+1]\n",
    "                L[idx+1] = temp\n",
    "    return L\n",
    "            \n",
    "                    \n",
    "L = [5,1,7,6,9,2]\n",
    "print('Original List: ' + str(L))\n",
    "print('Sorted List: ' + str(bubble_sort(L)))\n",
    "\n",
    "\n",
    "#COMPLEXITY: worst and avg case: O(n^2) - every two elements must be swapped\n",
    "#best case: O(n) - list is already sorted"
   ]
  },
  {
   "cell_type": "code",
   "execution_count": 16,
   "metadata": {},
   "outputs": [
    {
     "name": "stdout",
     "output_type": "stream",
     "text": [
      "Original List: [20, 30, 40, 90, 50, 60, 70, 80, 100, 110]\n",
      "Sorted List: [20, 30, 40, 50, 60, 70, 80, 90, 100, 110]\n"
     ]
    }
   ],
   "source": [
    "#modified bubble sort that stops early if elements are already sorted, resulting in less passes\n",
    "def shortBubble(L):\n",
    "    passnum = len(L) - 1\n",
    "    swaps = True\n",
    "    while passnum > 0 and swaps:\n",
    "        swaps = False\n",
    "        for idx in range(passnum):\n",
    "            if L[idx] > L[idx+1]: #if this is false, one iteration of the outer loop is skipped\n",
    "                swaps = True #if the above contidition is True, set the swaps variable to true so the while loop continues\n",
    "                temp = L[idx]\n",
    "                L[idx] = L[idx+1]\n",
    "                L[idx+1] = temp\n",
    "        passnum -= 1\n",
    "    return L\n",
    "\n",
    "L = [20,30,40,90,50,60,70,80,100,110]\n",
    "print('Original List: ' + str(L))\n",
    "print('Sorted List: ' + str(shortBubble(L)))"
   ]
  }
 ],
 "metadata": {
  "kernelspec": {
   "display_name": "Python 3",
   "language": "python",
   "name": "python3"
  },
  "language_info": {
   "codemirror_mode": {
    "name": "ipython",
    "version": 3
   },
   "file_extension": ".py",
   "mimetype": "text/x-python",
   "name": "python",
   "nbconvert_exporter": "python",
   "pygments_lexer": "ipython3",
   "version": "3.6.5"
  }
 },
 "nbformat": 4,
 "nbformat_minor": 2
}
