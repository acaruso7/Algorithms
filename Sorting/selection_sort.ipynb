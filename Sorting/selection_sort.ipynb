{
 "cells": [
  {
   "cell_type": "code",
   "execution_count": 1,
   "metadata": {},
   "outputs": [
    {
     "name": "stdout",
     "output_type": "stream",
     "text": [
      "Original List: [54, 26, 93, 17, 77, 31, 44, 55, 20]\n",
      "Sorted List: [17, 20, 26, 31, 44, 54, 55, 77, 93]\n"
     ]
    }
   ],
   "source": [
    "def selection_sort(L): #find the largest value in the list and place in proper location on each pass\n",
    "    for outer in range(len(L)-1,0,-1):\n",
    "        max_idx = 0\n",
    "        for location in range(1,outer+1):\n",
    "            if L[location] > L[max_idx]:\n",
    "                max_idx = location\n",
    "        temp = L[outer] #temp variable to store 'last' value in list\n",
    "        L[outer] = L[max_idx] #move the 'current max' to the 'end' of the list \n",
    "        L[max_idx] = temp #swap 'last' value in list with the current location\n",
    "    return L\n",
    "\n",
    "L = [54,26,93,17,77,31,44,55,20]\n",
    "print('Original List: ' + str(L))\n",
    "print('Sorted List: ' + str(selection_sort(L)))\n",
    "\n",
    "#COMPLEXITY: O(n^2)"
   ]
  }
 ],
 "metadata": {
  "kernelspec": {
   "display_name": "Python 3",
   "language": "python",
   "name": "python3"
  },
  "language_info": {
   "codemirror_mode": {
    "name": "ipython",
    "version": 3
   },
   "file_extension": ".py",
   "mimetype": "text/x-python",
   "name": "python",
   "nbconvert_exporter": "python",
   "pygments_lexer": "ipython3",
   "version": "3.6.5"
  }
 },
 "nbformat": 4,
 "nbformat_minor": 2
}
