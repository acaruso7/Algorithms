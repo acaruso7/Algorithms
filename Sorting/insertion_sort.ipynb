{
 "cells": [
  {
   "cell_type": "code",
   "execution_count": 9,
   "metadata": {},
   "outputs": [
    {
     "name": "stdout",
     "output_type": "stream",
     "text": [
      "Original List: [4, 3, 5, 6, 1]\n",
      "Ascending: [1, 3, 4, 5, 6]\n",
      "Descending: [6, 5, 4, 3, 1]\n"
     ]
    }
   ],
   "source": [
    "def insertion_sort(L, order):\n",
    "    \"\"\"takes a list of integers L as input and a preferred order 'asc' or 'desc', and sorts them\"\"\"\n",
    "    for idx in range(1,len(L)):\n",
    "        val = L[idx] #temp variable to store value of current index, outside of while loop\n",
    "        comp_idx = idx - 1 #the prior idx to which the current idx is being compared\n",
    "        \n",
    "        if order == 'asc':\n",
    "            while L[comp_idx] > val and comp_idx > -1: #loop only enters if the previous value is greater than the current value\n",
    "                L[comp_idx+1] = L[comp_idx] #swap the current value for the previous, greater value\n",
    "                comp_idx -= 1 \n",
    "            L[comp_idx+1] = val    \n",
    "        else:\n",
    "            while L[comp_idx] < val and comp_idx > -1:\n",
    "                L[comp_idx+1] = L[comp_idx]\n",
    "                comp_idx -= 1 \n",
    "            L[comp_idx+1] = val \n",
    "            \n",
    "    return L\n",
    "            \n",
    "        \n",
    "L = [4,3,5,6,1]\n",
    "print('Original List: ' + str(L))\n",
    "print('Ascending: ' + str(insertion_sort(L, 'asc')))\n",
    "print('Descending: ' + str(insertion_sort(L, 'desc')))\n",
    "\n",
    "\n",
    "#COMPLEXITY: best case - O(n), worst & avg case: O(n^2)        "
   ]
  }
 ],
 "metadata": {
  "kernelspec": {
   "display_name": "Python 3",
   "language": "python",
   "name": "python3"
  },
  "language_info": {
   "codemirror_mode": {
    "name": "ipython",
    "version": 3
   },
   "file_extension": ".py",
   "mimetype": "text/x-python",
   "name": "python",
   "nbconvert_exporter": "python",
   "pygments_lexer": "ipython3",
   "version": "3.6.5"
  }
 },
 "nbformat": 4,
 "nbformat_minor": 2
}
