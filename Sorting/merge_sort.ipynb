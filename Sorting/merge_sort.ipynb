{
 "cells": [
  {
   "cell_type": "code",
   "execution_count": 4,
   "metadata": {},
   "outputs": [
    {
     "name": "stdout",
     "output_type": "stream",
     "text": [
      "Merge sort successful - all test cases passed\n"
     ]
    }
   ],
   "source": [
    "def merge(L,M):\n",
    "    '''\n",
    "    Assume L and M are sorted lists.\n",
    "    Return a new, sorted list of all the elements of L and M.\n",
    "    '''\n",
    "    newList = [0]*(len(L)+len(M)) #create placeholders for new sorted list\n",
    "    i = 0\n",
    "    j = 0\n",
    "    while i < len(L) and j < len(M):\n",
    "        if L[i] < M[j]:\n",
    "            newList[i+j] = L[i]\n",
    "            i += 1\n",
    "        else:\n",
    "            newList[i+j] = M[j]\n",
    "            j += 1\n",
    "    while i < len(L):\n",
    "        newList[i+j] = L[i]\n",
    "        i += 1\n",
    "    while j < len(M):\n",
    "        newList[i+j] = M[j]\n",
    "        j += 1\n",
    "    return newList\n",
    "\n",
    "\n",
    "\n",
    "def testMerge():\n",
    "    # tests first version of merge\n",
    "    assert merge([], []) == []\n",
    "    assert merge([], [1,3]) == [1, 3]\n",
    "    assert merge([2,4,6], [1,3]) == [1, 2, 3, 4, 6]\n",
    "    assert merge([1,2,3], [4,5]) == [1, 2, 3, 4, 5]\n",
    "    assert merge([8,10,12], [1,3]) == [1, 3, 8, 10, 12]\n",
    "    assert merge([8,10], [1]) == [1, 8, 10]\n",
    "    assert merge([2,4], [1]) == [1, 2, 4]\n",
    "    assert merge([0,2,3,5,7], [1,3,4,5,7,12,15]) == [0, 1, 2, 3, 3, 4, 5, 5, 7, 7, 12, 15]\n",
    "    print(\"Merge sort successful - all test cases passed\")\n",
    "    \n",
    "testMerge()\n",
    "\n",
    "\n",
    "#Complexity: O(n log n)"
   ]
  }
 ],
 "metadata": {
  "kernelspec": {
   "display_name": "Python 3",
   "language": "python",
   "name": "python3"
  },
  "language_info": {
   "codemirror_mode": {
    "name": "ipython",
    "version": 3
   },
   "file_extension": ".py",
   "mimetype": "text/x-python",
   "name": "python",
   "nbconvert_exporter": "python",
   "pygments_lexer": "ipython3",
   "version": "3.6.5"
  }
 },
 "nbformat": 4,
 "nbformat_minor": 2
}
