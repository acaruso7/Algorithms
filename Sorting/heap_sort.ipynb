{
 "cells": [
  {
   "cell_type": "code",
   "execution_count": 1,
   "metadata": {},
   "outputs": [
    {
     "name": "stdout",
     "output_type": "stream",
     "text": [
      "Original List: [12, 11, 13, 5, 6, 7]\n",
      "Sorted List: [5, 6, 7, 11, 12, 13]\n"
     ]
    }
   ],
   "source": [
    "def heapify(L, n, i):  # n is size of heap , i is the root index\n",
    "    \"\"\"generate a binary heap data structure from an unsorted list\"\"\"\n",
    "    largest = i # Initialize largest as root index\n",
    "    l = 2 * i + 1  # left = 2*i + 1 \n",
    "    r = 2 * i + 2  # right = 2*i + 2 \n",
    "\n",
    "    # Check if left child of root exists and is \n",
    "    # greater than root \n",
    "    if l < n and L[i] < L[l]: \n",
    "        largest = l \n",
    "\n",
    "    # Check if right child of root exists and is \n",
    "    # greater than root \n",
    "    if r < n and L[largest] < L[r]: \n",
    "        largest = r \n",
    "\n",
    "    # Change root, if needed \n",
    "    if largest != i: \n",
    "        L[i],L[largest] = L[largest],L[i] # swap \n",
    "\n",
    "        # Heapify the root with a recursive call \n",
    "        heapify(L, n, largest) \n",
    "\n",
    "\n",
    "def heapSort(L): \n",
    "    n = len(L) \n",
    "\n",
    "    # Build a maxheap \n",
    "    for i in range(n, -1, -1): \n",
    "        heapify(L, n, i) \n",
    "\n",
    "    # extract elements one by one\n",
    "    for i in range(n-1, 0, -1): \n",
    "        L[i], L[0] = L[0], L[i] # swap \n",
    "        heapify(L, i, 0) \n",
    "        \n",
    "    return L\n",
    "\n",
    "\n",
    "L = [ 12, 11, 13, 5, 6, 7] \n",
    "print('Original List: ' + str(L))\n",
    "print('Sorted List: ' + str(heapSort(L)))\n",
    "\n",
    "\n",
    "#Complexity: O(n log n)"
   ]
  }
 ],
 "metadata": {
  "kernelspec": {
   "display_name": "Python 3",
   "language": "python",
   "name": "python3"
  },
  "language_info": {
   "codemirror_mode": {
    "name": "ipython",
    "version": 3
   },
   "file_extension": ".py",
   "mimetype": "text/x-python",
   "name": "python",
   "nbconvert_exporter": "python",
   "pygments_lexer": "ipython3",
   "version": "3.6.5"
  }
 },
 "nbformat": 4,
 "nbformat_minor": 2
}
