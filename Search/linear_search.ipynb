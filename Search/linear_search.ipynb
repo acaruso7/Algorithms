{
 "cells": [
  {
   "cell_type": "code",
   "execution_count": 4,
   "metadata": {},
   "outputs": [
    {
     "name": "stdout",
     "output_type": "stream",
     "text": [
      "1\n",
      "The value 7 is not in the list\n"
     ]
    }
   ],
   "source": [
    "def lin_search(L,x): #assume the list is not empty; assume the value x only appears once in the list\n",
    "    \"\"\"takes a list of values L, and a search value x as input.\n",
    "       Returns the index of the value x in the list L, if found\"\"\"\n",
    "    if x in L:\n",
    "        for idx, val in enumerate(L):\n",
    "            if val == x:\n",
    "                return idx\n",
    "            else:\n",
    "                pass\n",
    "    else:\n",
    "        return 'The value ' + str(x) + ' is not in the list'\n",
    "        \n",
    "print(lin_search([3,5,'a',0,6],5))\n",
    "\n",
    "print(lin_search([3,5,'a',0,6],7))\n",
    "\n",
    "    \n",
    "#Complexity: O(n) --> worst case, every element in the list is checked"
   ]
  }
 ],
 "metadata": {
  "kernelspec": {
   "display_name": "Python 3",
   "language": "python",
   "name": "python3"
  },
  "language_info": {
   "codemirror_mode": {
    "name": "ipython",
    "version": 3
   },
   "file_extension": ".py",
   "mimetype": "text/x-python",
   "name": "python",
   "nbconvert_exporter": "python",
   "pygments_lexer": "ipython3",
   "version": "3.6.5"
  }
 },
 "nbformat": 4,
 "nbformat_minor": 2
}
