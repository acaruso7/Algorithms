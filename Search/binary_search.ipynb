{
 "cells": [
  {
   "cell_type": "code",
   "execution_count": 21,
   "metadata": {},
   "outputs": [
    {
     "name": "stdout",
     "output_type": "stream",
     "text": [
      "6\n",
      "The value 26 was not found in the list\n"
     ]
    }
   ],
   "source": [
    "import math\n",
    "\n",
    "#ITERATIVE SOLUTION\n",
    "def binary_search(L,x): #assume the list is not empty;  assume the list is sorted ascending\n",
    "    \"\"\"takes a list of integers L, and a search value x as input.\n",
    "       Returns the index of the value x in the list L, if found\"\"\" \n",
    "        \n",
    "    first = 0\n",
    "    last = len(L) - 1\n",
    "    found = False\n",
    "    \n",
    "    while first <= last and found == False:\n",
    "        mid = (first + last) // 2 #use floor division to find midpoint index - mid.floor for even length lists\n",
    "        if L[mid] == x:\n",
    "            found = True #exit the loop and return the index of the matching value in the list\n",
    "        elif x < L[mid]:\n",
    "            last = mid - 1 #if the search value is less than the list value at the midpoint, search the remaining lesser vals\n",
    "        else:\n",
    "            first = mid + 1 #is the search val is greater than the list value at the midpoint, search remaining greater vals\n",
    "    \n",
    "    if found == False:\n",
    "        return 'The value ' + str(x) + ' was not found in the list'\n",
    "    else:\n",
    "        return mid\n",
    "        \n",
    "        \n",
    "        \n",
    "        \n",
    "print(binary_search([1,3,4,5,7,11,12,20],12))  \n",
    "print(binary_search([1,3,4,5,7,11,12,20],26))\n",
    "\n",
    "#COMPLEXITY: O(log2(n)) --> represents the number of times the list must be halved until the element is found"
   ]
  },
  {
   "cell_type": "code",
   "execution_count": 28,
   "metadata": {},
   "outputs": [
    {
     "name": "stdout",
     "output_type": "stream",
     "text": [
      "True\n",
      "The value 26 was not found in the list\n"
     ]
    }
   ],
   "source": [
    "#RECURSIVE SOLUTION - only returns True if the element is in the list - does not return the index\n",
    "def binary_search(L,x):     \n",
    "    if len(L) == 0: #base case\n",
    "        found = False\n",
    "    else:\n",
    "        mid = len(L) // 2 \n",
    "        if L[mid] == x:\n",
    "            return True\n",
    "        elif x < L[mid]:\n",
    "            return binary_search(L[:mid], x) #call the function on all elements less than the midpoint\n",
    "        else:\n",
    "            return binary_search(L[mid+1:], x) #call the function on all elements greater than the midpoint\n",
    "    \n",
    "    if found == False:\n",
    "        return 'The value ' + str(x) + ' was not found in the list'\n",
    "\n",
    "    \n",
    "print(binary_search([1,3,4,5,7,11,12,20],12))  \n",
    "print(binary_search([1,3,4,5,7,11,12,20],26))"
   ]
  }
 ],
 "metadata": {
  "kernelspec": {
   "display_name": "Python 3",
   "language": "python",
   "name": "python3"
  },
  "language_info": {
   "codemirror_mode": {
    "name": "ipython",
    "version": 3
   },
   "file_extension": ".py",
   "mimetype": "text/x-python",
   "name": "python",
   "nbconvert_exporter": "python",
   "pygments_lexer": "ipython3",
   "version": "3.6.5"
  }
 },
 "nbformat": 4,
 "nbformat_minor": 2
}
