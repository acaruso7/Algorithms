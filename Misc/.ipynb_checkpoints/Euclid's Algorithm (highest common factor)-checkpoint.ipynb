{
 "cells": [
  {
   "cell_type": "code",
   "execution_count": 1,
   "metadata": {},
   "outputs": [
    {
     "name": "stdout",
     "output_type": "stream",
     "text": [
      "21\n",
      "21\n"
     ]
    }
   ],
   "source": [
    "def euclid(A,B):\n",
    "    \"\"\"\n",
    "    take 2 numbers A and B and find the highest common factor; that is the highest factor which divides both A and B evenly\n",
    "    \"\"\"\n",
    "    if B > A: #logic so the larger number is always divided by the smaller number - swap\n",
    "        temp = A\n",
    "        A = B\n",
    "        B = temp\n",
    "    remainder = A%B\n",
    "    \n",
    "    while remainder != 0:\n",
    "        A = B\n",
    "        B = remainder\n",
    "        remainder = A%B\n",
    "        \n",
    "    return B\n",
    "\n",
    "print(euclid(1365,3654))\n",
    "print(euclid(3654,1365))"
   ]
  }
 ],
 "metadata": {
  "kernelspec": {
   "display_name": "Python 3",
   "language": "python",
   "name": "python3"
  },
  "language_info": {
   "codemirror_mode": {
    "name": "ipython",
    "version": 3
   },
   "file_extension": ".py",
   "mimetype": "text/x-python",
   "name": "python",
   "nbconvert_exporter": "python",
   "pygments_lexer": "ipython3",
   "version": "3.6.5"
  }
 },
 "nbformat": 4,
 "nbformat_minor": 2
}
