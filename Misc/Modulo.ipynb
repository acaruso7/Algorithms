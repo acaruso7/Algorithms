{
 "cells": [
  {
   "cell_type": "code",
   "execution_count": 15,
   "metadata": {},
   "outputs": [
    {
     "name": "stdout",
     "output_type": "stream",
     "text": [
      "5\n",
      "The remainder is: 5\n"
     ]
    }
   ],
   "source": [
    "#takes two numbers A and B as input, and return the remainder when max(A,B) is divided by min(A,B)\n",
    "def modulo(A,B):\n",
    "    diff = max(A,B) - min(A,B)\n",
    "    while diff > min(A,B):\n",
    "        diff = diff - min(A,B)\n",
    "    print('The remainder is: ' + str(diff))\n",
    "    \n",
    "#modulo(4,23)\n",
    "\n",
    "\n",
    "def modulo_v2(A,B): #assuming the operation is always A/B, regardless of the larger; if B<A, remainder = A\n",
    "    diff = A - B\n",
    "    if A < B:\n",
    "        diff = A\n",
    "    else:\n",
    "        while diff > B:\n",
    "            diff = diff - B\n",
    "    print('The remainder is: ' + str(diff))\n",
    "    \n",
    "\n",
    "print(5%23)\n",
    "\n",
    "modulo_v2(5,23)"
   ]
  }
 ],
 "metadata": {
  "kernelspec": {
   "display_name": "Python 3",
   "language": "python",
   "name": "python3"
  },
  "language_info": {
   "codemirror_mode": {
    "name": "ipython",
    "version": 3
   },
   "file_extension": ".py",
   "mimetype": "text/x-python",
   "name": "python",
   "nbconvert_exporter": "python",
   "pygments_lexer": "ipython3",
   "version": "3.6.5"
  }
 },
 "nbformat": 4,
 "nbformat_minor": 2
}
